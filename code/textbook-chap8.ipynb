{
  "cells": [
    {
      "cell_type": "raw",
      "metadata": {},
      "source": [
        "---\n",
        "title: test\n",
        "format: html\n",
        "editor: visual\n",
        "---"
      ],
      "id": "57a9dd43"
    },
    {
      "cell_type": "markdown",
      "metadata": {},
      "source": [
        "## 빈도 막대 그래프 그리기\n",
        "데이터 불러오기\n"
      ],
      "id": "01094028"
    },
    {
      "cell_type": "code",
      "metadata": {},
      "source": [
        "import pandas as pd\n",
        "\n",
        "mpg = pd.read_csv(\"../data/mpg.csv\")\n",
        "mpg"
      ],
      "id": "7ed3b1e9",
      "execution_count": null,
      "outputs": []
    },
    {
      "cell_type": "markdown",
      "metadata": {},
      "source": [
        "Seaborn 패키지 불러오기"
      ],
      "id": "be3acbdf"
    },
    {
      "cell_type": "code",
      "metadata": {},
      "source": [
        "# !pip install plotly\n",
        "import seaborn as sns\n",
        "import matplotlib.pyplot as plt\n",
        "import plotly.express as px"
      ],
      "id": "bb5629c5",
      "execution_count": null,
      "outputs": []
    },
    {
      "cell_type": "markdown",
      "metadata": {},
      "source": [
        "### seaborn을 사용한 산점도도\n"
      ],
      "id": "726e2a87"
    },
    {
      "cell_type": "code",
      "metadata": {},
      "source": [
        "sns.scatterplot(data = mpg,\n",
        "                x= \"displ\", y= \"hwy\",\n",
        "                hue = \"drv\") \\\n",
        "    .set(xlim=[3,6], ylim=[10, 30])"
      ],
      "id": "6abc70a7",
      "execution_count": null,
      "outputs": []
    },
    {
      "cell_type": "markdown",
      "metadata": {},
      "source": [
        "* plotly를 사용한 산점도 그리기\n"
      ],
      "id": "8f16a065"
    },
    {
      "cell_type": "code",
      "metadata": {},
      "source": [
        "import plotly.express as px\n",
        "\n",
        "px.scatter(data_frame = mpg,\n",
        "            x = \"displ\", y = \"hwy\",\n",
        "            color=\"drv\")"
      ],
      "id": "3703f903",
      "execution_count": null,
      "outputs": []
    },
    {
      "cell_type": "markdown",
      "metadata": {},
      "source": [
        "### \"barplot()\" 사용하기\n",
        "\n",
        "데이터 전처리하기기"
      ],
      "id": "4dc3d9a7"
    },
    {
      "cell_type": "code",
      "metadata": {},
      "source": [
        "df_mpg = mpg.groupby(\"drv\", as_index=False) \\ \n",
        "    .agg(mean_hwy = (\"hwy\", \"mean\"))\n",
        "df_mpg"
      ],
      "id": "78f9f7cb",
      "execution_count": null,
      "outputs": []
    },
    {
      "cell_type": "markdown",
      "metadata": {},
      "source": [
        "\"barplot\" 사용해서 그래프 그리기\n"
      ],
      "id": "fff4d93d"
    },
    {
      "cell_type": "code",
      "metadata": {},
      "source": [
        "sns.barplot(data=df_mpg.sort_values(\"mean_hwy\"),\n",
        "            x = \"drv\" , y = \"mean_hwy\",\n",
        "            hue = \"drv\")"
      ],
      "id": "4ca764fa",
      "execution_count": null,
      "outputs": []
    },
    {
      "cell_type": "markdown",
      "metadata": {},
      "source": [
        "### \"countplot()\" 사용하기\n"
      ],
      "id": "4f6f5ef1"
    },
    {
      "cell_type": "code",
      "metadata": {},
      "source": [
        "sns.countplot(data = mpg, x =\"drv\", hue = \"drv\")"
      ],
      "id": "dc56175a",
      "execution_count": null,
      "outputs": []
    },
    {
      "cell_type": "markdown",
      "metadata": {},
      "source": [
        "### 상자 그림 만들기\n"
      ],
      "id": "574d932c"
    },
    {
      "cell_type": "code",
      "metadata": {},
      "source": [
        "sns.boxplot(data = mpg, x = \"drv\", y = \"hwy\")"
      ],
      "id": "39fd9221",
      "execution_count": null,
      "outputs": []
    },
    {
      "cell_type": "markdown",
      "metadata": {},
      "source": [
        "### 선 그래프 만들기\n"
      ],
      "id": "346e14eb"
    }
  ],
  "metadata": {
    "kernelspec": {
      "name": "python3",
      "language": "python",
      "display_name": "Python 3 (ipykernel)"
    }
  },
  "nbformat": 4,
  "nbformat_minor": 5
}